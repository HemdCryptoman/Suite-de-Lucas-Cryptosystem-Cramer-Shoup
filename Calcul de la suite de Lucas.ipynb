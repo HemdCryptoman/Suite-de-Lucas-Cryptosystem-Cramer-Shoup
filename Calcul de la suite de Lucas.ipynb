{
 "cells": [
  {
   "cell_type": "code",
   "execution_count": 21,
   "metadata": {},
   "outputs": [
    {
     "name": "stdout",
     "output_type": "stream",
     "text": [
      "________________________________________________________\n",
      "----------- |Suite de Lucas| ---------------\n",
      "________________________________________________________\n",
      "----------------- |Calcul| --------------------\n",
      "________________________________________________________\n"
     ]
    },
    {
     "data": {
      "text/plain": [
       "11390625"
      ]
     },
     "execution_count": 21,
     "metadata": {},
     "output_type": "execute_result"
    }
   ],
   "source": [
    "#------------------------------------------------------------#\n",
    "#Membres du groupe : El Hadji Mamadou Dia & Mohamadou Wagne\n",
    "#Universite : Gaton Berger de Saint Louis\n",
    "#UFR : SAT\n",
    "#Parcours : Cryptotologie, Codage et Application(CCA)\n",
    "#Niveau : Master I\n",
    "#Module : Introduction a la Cryptographie\n",
    "#Annee Universitaire : 2020/2021\n",
    "#-------------------------------------------------------------#\n",
    "\n",
    "print(\"________________________________________________________\")\n",
    "print(\"----------- |Suite de Lucas| ---------------\")\n",
    "print(\"________________________________________________________\")\n",
    "print(\"----------------- |Calcul| --------------------\")\n",
    "print(\"________________________________________________________\")\n",
    "def lucas(n, p):\n",
    "    if p == 0: return 1\n",
    "    return n * lucas(n, p-1) \n",
    "    if p & 1:\n",
    "        return n * lucas(n, p-1) \n",
    "    else:\n",
    "        return lucas(n, p//2) ** 2\n",
    "lucas(15,6)"
   ]
  },
  {
   "cell_type": "code",
   "execution_count": null,
   "metadata": {},
   "outputs": [],
   "source": []
  }
 ],
 "metadata": {
  "kernelspec": {
   "display_name": "SageMath 8.9",
   "language": "sage",
   "name": "sagemath"
  },
  "language_info": {
   "codemirror_mode": {
    "name": "ipython",
    "version": 2
   },
   "file_extension": ".py",
   "mimetype": "text/x-python",
   "name": "python",
   "nbconvert_exporter": "python",
   "pygments_lexer": "ipython2",
   "version": "2.7.15"
  }
 },
 "nbformat": 4,
 "nbformat_minor": 2
}
