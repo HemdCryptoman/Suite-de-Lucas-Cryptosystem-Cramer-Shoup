{
 "cells": [
  {
   "cell_type": "code",
   "execution_count": 1,
   "metadata": {},
   "outputs": [
    {
     "name": "stdout",
     "output_type": "stream",
     "text": [
      "________________________________________________________\n",
      "----------- |Cryptosysteme Cramer Shoup| ---------------\n",
      "________________________________________________________\n",
      "----------------- |Dechiffrement| --------------------\n",
      "________________________________________________________\n"
     ]
    },
    {
     "ename": "TypeError",
     "evalue": "unsupported operand type(s) for +: 'sage.rings.finite_rings.integer_mod.IntegerMod_int' and 'tuple'",
     "output_type": "error",
     "traceback": [
      "\u001b[0;31m---------------------------------------------------------------------------\u001b[0m",
      "\u001b[0;31mTypeError\u001b[0m                                 Traceback (most recent call last)",
      "\u001b[0;32m<ipython-input-1-e96fe4f183f0>\u001b[0m in \u001b[0;36m<module>\u001b[0;34m()\u001b[0m\n\u001b[1;32m     38\u001b[0m     \u001b[0mk1\u001b[0m \u001b[0;34m=\u001b[0m \u001b[0mu1\u001b[0m\u001b[0;34m**\u001b[0m\u001b[0mh1\u001b[0m\u001b[0;34m\u001b[0m\u001b[0m\n\u001b[1;32m     39\u001b[0m     \u001b[0;32mprint\u001b[0m \u001b[0mk1\u001b[0m\u001b[0;34m\u001b[0m\u001b[0m\n\u001b[0;32m---> 40\u001b[0;31m \u001b[0mdecryption\u001b[0m\u001b[0;34m(\u001b[0m\u001b[0mInteger\u001b[0m\u001b[0;34m(\u001b[0m\u001b[0;36m12\u001b[0m\u001b[0;34m)\u001b[0m\u001b[0;34m,\u001b[0m\u001b[0mInteger\u001b[0m\u001b[0;34m(\u001b[0m\u001b[0;36m128\u001b[0m\u001b[0;34m)\u001b[0m\u001b[0;34m)\u001b[0m\u001b[0;34m\u001b[0m\u001b[0m\n\u001b[0m",
      "\u001b[0;32m<ipython-input-1-e96fe4f183f0>\u001b[0m in \u001b[0;36mdecryption\u001b[0;34m(m, q)\u001b[0m\n\u001b[1;32m     35\u001b[0m     \u001b[0ma3\u001b[0m \u001b[0;34m=\u001b[0m \u001b[0mstr\u001b[0m\u001b[0;34m(\u001b[0m\u001b[0mhash\u001b[0m\u001b[0;34m(\u001b[0m\u001b[0me\u001b[0m\u001b[0;34m)\u001b[0m\u001b[0;34m)\u001b[0m\u001b[0;34m\u001b[0m\u001b[0m\n\u001b[1;32m     36\u001b[0m     \u001b[0malpha\u001b[0m \u001b[0;34m=\u001b[0m \u001b[0;34m(\u001b[0m\u001b[0ma1\u001b[0m\u001b[0;34m,\u001b[0m\u001b[0ma2\u001b[0m\u001b[0;34m,\u001b[0m\u001b[0ma3\u001b[0m\u001b[0;34m)\u001b[0m\u001b[0;34m\u001b[0m\u001b[0m\n\u001b[0;32m---> 37\u001b[0;31m     \u001b[0mh1\u001b[0m \u001b[0;34m=\u001b[0m \u001b[0mx1\u001b[0m \u001b[0;34m+\u001b[0m \u001b[0my1\u001b[0m\u001b[0;34m*\u001b[0m\u001b[0malpha\u001b[0m\u001b[0;34m\u001b[0m\u001b[0m\n\u001b[0m\u001b[1;32m     38\u001b[0m     \u001b[0mk1\u001b[0m \u001b[0;34m=\u001b[0m \u001b[0mu1\u001b[0m\u001b[0;34m**\u001b[0m\u001b[0mh1\u001b[0m\u001b[0;34m\u001b[0m\u001b[0m\n\u001b[1;32m     39\u001b[0m     \u001b[0;32mprint\u001b[0m \u001b[0mk1\u001b[0m\u001b[0;34m\u001b[0m\u001b[0m\n",
      "\u001b[0;31mTypeError\u001b[0m: unsupported operand type(s) for +: 'sage.rings.finite_rings.integer_mod.IntegerMod_int' and 'tuple'"
     ]
    }
   ],
   "source": [
    "#------------------------------------------------------------#\n",
    "#Membres du groupe : El Hadji Mamadou Dia & Mohamadou Wagne\n",
    "#Universite : Gaton Berger de Saint Louis\n",
    "#UFR : SAT\n",
    "#Parcours : Cryptotologie, Codage et Application(CCA)\n",
    "#Niveau : Master I\n",
    "#Module : Introduction a la Cryptographie\n",
    "#Annee Universitaire : 2020/2021\n",
    "#-------------------------------------------------------------#\n",
    "\n",
    "print(\"________________________________________________________\")\n",
    "print(\"----------- |Cryptosysteme Cramer Shoup| ---------------\")\n",
    "print(\"________________________________________________________\")\n",
    "print(\"----------------- |Dechiffrement| --------------------\")\n",
    "print(\"________________________________________________________\")\n",
    "def decryption(m,q):\n",
    "    G = CyclicPermutationGroup(q)\n",
    "    g1 = G.gens()\n",
    "    g2 = G.gens()\n",
    "    R = IntegerModRing(q)\n",
    "    r = R.random_element()\n",
    "    z = R.random_element()\n",
    "    x1 = R.random_element()\n",
    "    x2 = R.random_element()\n",
    "    y1 = R.random_element()\n",
    "    y2 = R.random_element()\n",
    "    for i in range(0,len(g1)):\n",
    "        u1 = g1[i]^r\n",
    "    for j in range(0,len(g2)):\n",
    "        u2 = g2[j]^r\n",
    "    for i in range(0,len(g1)):\n",
    "        e = (g1[i]^z^r)\n",
    "    a1 = str(hash(u1))\n",
    "    a2 = str(hash(u2))\n",
    "    a3 = str(hash(e))\n",
    "    alpha = (a1,a2,a3)\n",
    "    h1 = x1 + y1*alpha\n",
    "    k1 = u1^h1\n",
    "    print k1\n",
    "decryption(12,128)"
   ]
  },
  {
   "cell_type": "code",
   "execution_count": null,
   "metadata": {},
   "outputs": [],
   "source": []
  }
 ],
 "metadata": {
  "kernelspec": {
   "display_name": "SageMath 8.9",
   "language": "sage",
   "name": "sagemath"
  },
  "language_info": {
   "codemirror_mode": {
    "name": "ipython",
    "version": 2
   },
   "file_extension": ".py",
   "mimetype": "text/x-python",
   "name": "python",
   "nbconvert_exporter": "python",
   "pygments_lexer": "ipython2",
   "version": "2.7.15"
  }
 },
 "nbformat": 4,
 "nbformat_minor": 2
}
